{
  "nbformat": 4,
  "nbformat_minor": 0,
  "metadata": {
    "colab": {
      "provenance": [],
      "authorship_tag": "ABX9TyMQBz916yFVZB3mhRe6ytP5",
      "include_colab_link": true
    },
    "kernelspec": {
      "name": "python3",
      "display_name": "Python 3"
    },
    "language_info": {
      "name": "python"
    }
  },
  "cells": [
    {
      "cell_type": "markdown",
      "metadata": {
        "id": "view-in-github",
        "colab_type": "text"
      },
      "source": [
        "<a href=\"https://colab.research.google.com/github/Debayan2004/BR-Tumor-Segmentation/blob/main/train.ipynb\" target=\"_parent\"><img src=\"https://colab.research.google.com/assets/colab-badge.svg\" alt=\"Open In Colab\"/></a>"
      ]
    },
    {
      "cell_type": "code",
      "source": [
        "import tensorflow as tf\n",
        "import numpy as np\n",
        "from sklearn.model_selection import KFold\n",
        "from scipy.spatial.distance import directed_hausdorff"
      ],
      "metadata": {
        "id": "D8pHLbKKIzez"
      },
      "execution_count": 1,
      "outputs": []
    },
    {
      "cell_type": "code",
      "execution_count": 2,
      "metadata": {
        "id": "WsEISmURIrMt"
      },
      "outputs": [],
      "source": [
        "# Cross-validation function\n",
        "def cross_validation(X, y, n_splits=5):\n",
        "    \"\"\"Perform cross-validation and calculate the metrics for each fold.\"\"\"\n",
        "    kf = KFold(n_splits=n_splits, shuffle=True, random_state=42)\n",
        "    dice_scores = []\n",
        "    volume_similarities = []\n",
        "    hausdorff_distances = []\n",
        "\n",
        "    for train_idx, val_idx in kf.split(X):\n",
        "        # Split data\n",
        "        X_train, X_val = X[train_idx], X[val_idx]\n",
        "        y_train, y_val = y[train_idx], y[val_idx]\n",
        "\n",
        "        # Build and train the model\n",
        "        model = build_model(input_shape=X_train.shape[1:])\n",
        "        model.fit(X_train, y_train, epochs=5, batch_size=16, verbose=1)\n",
        "\n",
        "        # Make predictions\n",
        "        y_pred = model.predict(X_val)\n",
        "\n",
        "        # Calculate metrics\n",
        "        dice = dice_coefficient(y_val, y_pred)\n",
        "        volume_sim = volume_similarity(y_val, y_pred)\n",
        "        hausdorff = hausdorff_distance(y_val, y_pred)\n",
        "\n",
        "        # Store the metrics for this fold\n",
        "        dice_scores.append(dice.numpy())\n",
        "        volume_similarities.append(volume_sim.numpy())\n",
        "        hausdorff_distances.append(hausdorff)\n",
        "\n",
        "    # Calculate the mean and std of the metrics\n",
        "    print(\"Dice Coefficient: Mean = {:.4f}, Std = {:.4f}\".format(np.mean(dice_scores), np.std(dice_scores)))\n",
        "    print(\"Volume Similarity: Mean = {:.4f}, Std = {:.4f}\".format(np.mean(volume_similarities), np.std(volume_similarities)))\n",
        "    print(\"Hausdorff Distance: Mean = {:.4f}, Std = {:.4f}\".format(np.mean(hausdorff_distances), np.std(hausdorff_distances)))\n"
      ]
    }
  ]
}