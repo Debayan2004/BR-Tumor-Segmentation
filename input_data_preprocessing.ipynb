{
  "nbformat": 4,
  "nbformat_minor": 0,
  "metadata": {
    "colab": {
      "provenance": [],
      "authorship_tag": "ABX9TyO7146OaEkUJIOg02jm48dh",
      "include_colab_link": true
    },
    "kernelspec": {
      "name": "python3",
      "display_name": "Python 3"
    },
    "language_info": {
      "name": "python"
    }
  },
  "cells": [
    {
      "cell_type": "markdown",
      "metadata": {
        "id": "view-in-github",
        "colab_type": "text"
      },
      "source": [
        "<a href=\"https://colab.research.google.com/github/Debayan2004/BR-Tumor-Segmentation/blob/main/input_data_preprocessing.ipynb\" target=\"_parent\"><img src=\"https://colab.research.google.com/assets/colab-badge.svg\" alt=\"Open In Colab\"/></a>"
      ]
    },
    {
      "cell_type": "code",
      "source": [
        "!pip install SimpleITK"
      ],
      "metadata": {
        "colab": {
          "base_uri": "https://localhost:8080/"
        },
        "id": "nayuJk5JOU6L",
        "outputId": "6cc16b04-dce8-418a-fa64-ca9846d19947"
      },
      "execution_count": 3,
      "outputs": [
        {
          "output_type": "stream",
          "name": "stdout",
          "text": [
            "Collecting SimpleITK\n",
            "  Downloading SimpleITK-2.4.0-cp310-cp310-manylinux_2_17_x86_64.manylinux2014_x86_64.whl.metadata (7.9 kB)\n",
            "Downloading SimpleITK-2.4.0-cp310-cp310-manylinux_2_17_x86_64.manylinux2014_x86_64.whl (52.4 MB)\n",
            "\u001b[2K   \u001b[90m━━━━━━━━━━━━━━━━━━━━━━━━━━━━━━━━━━━━━━━━\u001b[0m \u001b[32m52.4/52.4 MB\u001b[0m \u001b[31m11.9 MB/s\u001b[0m eta \u001b[36m0:00:00\u001b[0m\n",
            "\u001b[?25hInstalling collected packages: SimpleITK\n",
            "Successfully installed SimpleITK-2.4.0\n"
          ]
        }
      ]
    },
    {
      "cell_type": "code",
      "execution_count": 4,
      "metadata": {
        "id": "TB3-lFSxNKHf"
      },
      "outputs": [],
      "source": [
        "import os\n",
        "import numpy as np\n",
        "import nibabel as nib\n",
        "import SimpleITK as sitk\n",
        "from sklearn.model_selection import train_test_split"
      ]
    },
    {
      "cell_type": "code",
      "source": [
        "def load_nii_file(file_path):\n",
        "    \"\"\"Load a .nii file.\"\"\"\n",
        "    nii_image = nib.load(file_path)\n",
        "    return nii_image.get_fdata()  # Returns the data as a NumPy array\n"
      ],
      "metadata": {
        "id": "a0-QUD8FOKfE"
      },
      "execution_count": 5,
      "outputs": []
    },
    {
      "cell_type": "code",
      "source": [
        "def preprocess_data(ir_images, t1_images, flair_images, masks, target_shape=(128, 128, 128)):\n",
        "    \"\"\"\n",
        "    Preprocess the MRI images and masks by resizing and normalizing.\n",
        "    \"\"\"\n",
        "    def resize_image(image, target_shape):\n",
        "        \"\"\"Resize image to the target shape.\"\"\"\n",
        "        sitk_image = sitk.GetImageFromArray(image)\n",
        "        original_size = list(image.shape)\n",
        "        target_size = list(target_shape)\n",
        "\n",
        "        resampler = sitk.ResampleImageFilter()\n",
        "        resampler.SetOutputSpacing([o_sz / t_sz for o_sz, t_sz in zip(original_size, target_size)])\n",
        "        resampler.SetSize(target_size)\n",
        "        resampler.SetOutputDirection(sitk_image.GetDirection())\n",
        "        resampler.SetOutputOrigin(sitk_image.GetOrigin())\n",
        "        resampler.SetTransform(sitk.Transform())\n",
        "        resampler.SetDefaultPixelValue(0)\n",
        "        resampler.SetInterpolator(sitk.sitkLinear)\n",
        "        resized_image = sitk.GetArrayFromImage(resampler.Execute(sitk_image))\n",
        "\n",
        "        return resized_image\n",
        "\n",
        "    def normalize_image(image):\n",
        "        \"\"\"Normalize image data to [0, 1].\"\"\"\n",
        "        return (image - np.min(image)) / (np.max(image) - np.min(image))\n",
        "\n",
        "    ir_images_resized = np.array([resize_image(img, target_shape) for img in ir_images])\n",
        "    t1_images_resized = np.array([resize_image(img, target_shape) for img in t1_images])\n",
        "    flair_images_resized = np.array([resize_image(img, target_shape) for img in flair_images])\n",
        "\n",
        "    ir_images_normalized = np.array([normalize_image(img) for img in ir_images_resized])\n",
        "    t1_images_normalized = np.array([normalize_image(img) for img in t1_images_resized])\n",
        "    flair_images_normalized = np.array([normalize_image(img) for img in flair_images_resized])\n",
        "\n",
        "    masks_resized = np.array([resize_image(mask, target_shape) for mask in masks])\n",
        "\n",
        "    return ir_images_normalized, t1_images_normalized, flair_images_normalized, masks_resized\n",
        "\n",
        "\n",
        ""
      ],
      "metadata": {
        "id": "jqYN4cS4OOXu"
      },
      "execution_count": 7,
      "outputs": []
    },
    {
      "cell_type": "code",
      "source": [
        "# Extract patches\n",
        "def extract_patches(images, patch_size=(16, 16, 16)):\n",
        "    patches = []\n",
        "    for image in images:\n",
        "        z, h, w = image.shape\n",
        "        dz, dh, dw = patch_size\n",
        "        for z_start in range(0, z, dz):\n",
        "            for h_start in range(0, h, dh):\n",
        "                for w_start in range(0, w, dw):\n",
        "                    patches.append(image[z_start:z_start+dz, h_start:h_start+dh, w_start:w_start+dw])\n",
        "    return np.array(patches)"
      ],
      "metadata": {
        "id": "WCNVoseSOjCL"
      },
      "execution_count": 8,
      "outputs": []
    },
    {
      "cell_type": "code",
      "source": [
        "# Preprocess labels\n",
        "def preprocess_labels(masks, num_classes=8):\n",
        "    one_hot_masks = np.zeros((*masks.shape, num_classes), dtype=np.uint8)\n",
        "    masks = np.where((masks == 0) | (masks == 9) | (masks == 10), 0, masks)\n",
        "    for class_id in range(1, num_classes + 1):\n",
        "        one_hot_masks[..., class_id - 1] = (masks == class_id).astype(np.uint8)\n",
        "    return one_hot_masks"
      ],
      "metadata": {
        "id": "BMtFhJ7LO23y"
      },
      "execution_count": 9,
      "outputs": []
    },
    {
      "cell_type": "code",
      "source": [
        "# Train/validation split\n",
        "def split_train_valid(ir_patches, t1_patches, flair_patches, mask_patches, valid_size=0.2):\n",
        "    input_images = np.stack([ir_patches, t1_patches, flair_patches], axis=-1)\n",
        "    X_train, X_valid, y_train, y_valid = train_test_split(\n",
        "        input_images, mask_patches, test_size=valid_size, random_state=42\n",
        "    )\n",
        "    return X_train, X_valid, y_train, y_valid"
      ],
      "metadata": {
        "id": "KknukwlpO37H"
      },
      "execution_count": 10,
      "outputs": []
    },
    {
      "cell_type": "code",
      "source": [
        "# Check normalization\n",
        "def check_normalization(data, name):\n",
        "    print(f\"Checking {name}:\")\n",
        "    print(f\"Min: {np.min(data):.5f}, Max: {np.max(data):.5f}, Mean: {np.mean(data):.5f}, Std: {np.std(data):.5f}\")\n"
      ],
      "metadata": {
        "id": "MBW9VryqO6mk"
      },
      "execution_count": 11,
      "outputs": []
    }
  ]
}